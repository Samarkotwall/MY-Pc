{
  "nbformat": 4,
  "nbformat_minor": 0,
  "metadata": {
    "colab": {
      "name": "xrdp.ipynb",
      "private_outputs": true,
      "provenance": [],
      "gpuType": "T4"
    },
    "kernelspec": {
      "name": "python3",
      "display_name": "Python 3"
    },
    "language_info": {
      "name": "python"
    },
    "accelerator": "GPU"
  },
  "cells": [
    {
      "cell_type": "code",
      "source": [],
      "metadata": {
        "id": "brAJhNL4nztg"
      },
      "execution_count": null,
      "outputs": []
    },
    {
      "cell_type": "markdown",
      "metadata": {
        "id": "6d664754"
      },
      "source": [
        "# Task\n",
        "Show an example of training a simple ML model."
      ]
    },
    {
      "cell_type": "markdown",
      "metadata": {
        "id": "b2ed637f"
      },
      "source": [
        "## Generate synthetic data\n",
        "\n",
        "### Subtask:\n",
        "Create a simple dataset for a regression task.\n"
      ]
    },
    {
      "cell_type": "markdown",
      "metadata": {
        "id": "04b149da"
      },
      "source": [
        "**Reasoning**:\n",
        "Generate synthetic data for a regression task using numpy.\n",
        "\n"
      ]
    },
    {
      "cell_type": "code",
      "metadata": {
        "id": "e1520d9f"
      },
      "source": [
        "import numpy as np\n",
        "\n",
        "# Generate input data X\n",
        "X = np.linspace(0, 10, 100)\n",
        "\n",
        "# Generate target data y with noise\n",
        "y = 2 * X + 1 + np.random.randn(100)"
      ],
      "execution_count": null,
      "outputs": []
    },
    {
      "cell_type": "markdown",
      "metadata": {
        "id": "b895f075"
      },
      "source": [
        "## Define a simple model\n",
        "\n",
        "### Subtask:\n",
        "Create a basic linear regression model using TensorFlow/Keras.\n"
      ]
    },
    {
      "cell_type": "markdown",
      "metadata": {
        "id": "87dc1549"
      },
      "source": [
        "**Reasoning**:\n",
        "Import the necessary modules from TensorFlow/Keras and create a simple Sequential model with a Dense layer as instructed.\n",
        "\n"
      ]
    },
    {
      "cell_type": "code",
      "metadata": {
        "id": "01d5f55c"
      },
      "source": [
        "from tensorflow.keras.models import Sequential\n",
        "from tensorflow.keras.layers import Dense\n",
        "\n",
        "# Instantiate a Sequential model\n",
        "model = Sequential()\n",
        "\n",
        "# Add a Dense layer to the Sequential model\n",
        "model.add(Dense(units=1, input_shape=[1]))"
      ],
      "execution_count": null,
      "outputs": []
    },
    {
      "cell_type": "markdown",
      "metadata": {
        "id": "0836f46f"
      },
      "source": [
        "## Compile the model\n",
        "\n",
        "### Subtask:\n",
        "Configure the model for training by specifying the optimizer, loss function, and metrics.\n"
      ]
    },
    {
      "cell_type": "markdown",
      "metadata": {
        "id": "d2b3315b"
      },
      "source": [
        "**Reasoning**:\n",
        "Compile the Keras model with the specified optimizer, loss function, and metrics.\n",
        "\n"
      ]
    },
    {
      "cell_type": "code",
      "metadata": {
        "id": "bfa39b91"
      },
      "source": [
        "# Compile the model\n",
        "model.compile(optimizer='adam', loss='mean_squared_error', metrics=['mean_absolute_error'])"
      ],
      "execution_count": null,
      "outputs": []
    },
    {
      "cell_type": "markdown",
      "metadata": {
        "id": "d12de501"
      },
      "source": [
        "## Train the model\n",
        "\n",
        "### Subtask:\n",
        "Fit the model to the generated data.\n"
      ]
    },
    {
      "cell_type": "markdown",
      "metadata": {
        "id": "b9b4beb8"
      },
      "source": [
        "**Reasoning**:\n",
        "Fit the model to the training data using the specified number of epochs and store the history.\n",
        "\n"
      ]
    },
    {
      "cell_type": "code",
      "metadata": {
        "id": "fc4f0f1b"
      },
      "source": [
        "history = model.fit(X, y, epochs=100)"
      ],
      "execution_count": null,
      "outputs": []
    },
    {
      "cell_type": "markdown",
      "metadata": {
        "id": "68e03683"
      },
      "source": [
        "**Reasoning**:\n",
        "The previous attempt failed because the variables X and y were not defined in the current session. Need to regenerate the data.\n",
        "\n"
      ]
    },
    {
      "cell_type": "code",
      "metadata": {
        "id": "8E98BlCjowtG"
      },
      "source": [
        "import numpy as np\n",
        "\n",
        "# Generate input data X\n",
        "X = np.linspace(0, 10, 100)\n",
        "\n",
        "# Generate target data y with noise\n",
        "y = 2 * X + 1 + np.random.randn(100)\n",
        "\n",
        "# Fit the model to the training data using the specified number of epochs and store the history.\n",
        "history = model.fit(X, y, epochs=100)"
      ],
      "execution_count": null,
      "outputs": []
    },
    {
      "cell_type": "markdown",
      "metadata": {
        "id": "1e926e92"
      },
      "source": [
        "## Evaluate the model\n",
        "\n",
        "### Subtask:\n",
        "Assess the performance of the trained model.\n"
      ]
    },
    {
      "cell_type": "markdown",
      "metadata": {
        "id": "f8e204f9"
      },
      "source": [
        "**Reasoning**:\n",
        "Evaluate the trained model using the generated input data and target data and print the evaluation results.\n",
        "\n"
      ]
    },
    {
      "cell_type": "code",
      "metadata": {
        "id": "38d3435f"
      },
      "source": [
        "# Evaluate the model\n",
        "evaluation_results = model.evaluate(X, y)\n",
        "\n",
        "# Print the evaluation results\n",
        "print(\"Evaluation Results:\")\n",
        "print(\"Loss:\", evaluation_results[0])\n",
        "print(\"Mean Absolute Error:\", evaluation_results[1])"
      ],
      "execution_count": null,
      "outputs": []
    },
    {
      "cell_type": "markdown",
      "metadata": {
        "id": "781dd0e6"
      },
      "source": [
        "## Make a prediction\n",
        "\n",
        "### Subtask:\n",
        "Use the trained model to make a prediction on new data.\n"
      ]
    },
    {
      "cell_type": "markdown",
      "metadata": {
        "id": "569fc345"
      },
      "source": [
        "**Reasoning**:\n",
        "Create new data, make a prediction using the trained model, and print the prediction.\n",
        "\n"
      ]
    },
    {
      "cell_type": "code",
      "metadata": {
        "id": "c05efde3"
      },
      "source": [
        "import numpy as np\n",
        "\n",
        "# Create new data for prediction\n",
        "new_data = np.array([11.0])\n",
        "\n",
        "# Make a prediction using the trained model\n",
        "prediction = model.predict(new_data)\n",
        "\n",
        "# Print the prediction results\n",
        "print(\"Prediction:\", prediction)"
      ],
      "execution_count": null,
      "outputs": []
    },
    {
      "cell_type": "markdown",
      "metadata": {
        "id": "b9cdaf10"
      },
      "source": [
        "## Summary:\n",
        "\n",
        "### Data Analysis Key Findings\n",
        "\n",
        "*   A simple dataset with 100 data points for a regression task was successfully generated, where the target variable `y` was created using a linear relationship with the input variable `X` plus added noise.\n",
        "*   A basic linear regression model was defined using TensorFlow/Keras, consisting of a single Dense layer with one unit and an input shape of \\[1].\n",
        "*   The model was compiled using the 'adam' optimizer, 'mean\\_squared\\_error' as the loss function, and 'mean\\_absolute\\_error' as a metric.\n",
        "*   The model was trained on the generated data for 100 epochs, with the loss and mean absolute error decreasing during training.\n",
        "*   The trained model was evaluated on the generated data, resulting in a loss of approximately 211.83 and a mean absolute error of approximately 12.65.\n",
        "*   Using the trained model, a prediction for a new data point (11.0) was made, resulting in a predicted value of approximately -4.345639.\n",
        "\n",
        "### Insights or Next Steps\n",
        "\n",
        "*   The model's evaluation metrics (loss and mean absolute error) are relatively high, suggesting that the model might not be a perfect fit for the data, or more epochs, a different model architecture, or more data could be beneficial.\n",
        "*   The discrepancy between the expected value for X=11 (based on the generating function 2 \\* 11 + 1 = 23) and the predicted value (-4.345639) indicates the model did not capture the underlying linear relationship well, possibly due to the limited data, noise, or model simplicity.\n"
      ]
    },
    {
      "cell_type": "markdown",
      "metadata": {
        "id": "2c3d859d"
      },
      "source": [
        "# Task\n",
        "Train a pre-trained machine learning model on a custom dataset."
      ]
    },
    {
      "cell_type": "markdown",
      "metadata": {
        "id": "0bad34bc"
      },
      "source": [
        "## Load a pre-trained model\n",
        "\n",
        "### Subtask:\n",
        "Choose and load a pre-trained model suitable for your task.\n"
      ]
    },
    {
      "cell_type": "markdown",
      "metadata": {
        "id": "a751cbba"
      },
      "source": [
        "**Reasoning**:\n",
        "Import MobileNetV2 from Keras Applications and load the pre-trained model with imagenet weights, excluding the top classification layer.\n",
        "\n"
      ]
    },
    {
      "cell_type": "code",
      "metadata": {
        "id": "62f429c4"
      },
      "source": [
        "from tensorflow.keras.applications import MobileNetV2\n",
        "\n",
        "# Load the pre-trained MobileNetV2 model\n",
        "pretrained_model = MobileNetV2(weights='imagenet', include_top=False)"
      ],
      "execution_count": null,
      "outputs": []
    }
  ]
}